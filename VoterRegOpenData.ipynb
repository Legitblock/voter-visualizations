{
 "cells": [
  {
   "cell_type": "markdown",
   "metadata": {},
   "source": [
    "# 1.2. Getting started with exploratory data analysis in the Jupyter Notebook"
   ]
  },
  {
   "cell_type": "code",
   "execution_count": 11,
   "metadata": {},
   "outputs": [],
   "source": [
    "import numpy as np\n",
    "import pandas as pd\n",
    "import matplotlib.pyplot as plt\n",
    "%matplotlib inline"
   ]
  },
  {
   "cell_type": "code",
   "execution_count": 21,
   "metadata": {},
   "outputs": [],
   "source": [
    "df = pd.read_csv('VoterRegOpenData.csv',sep=',' , encoding='latin-1', skiprows =10)"
   ]
  },
  {
   "cell_type": "code",
   "execution_count": 22,
   "metadata": {},
   "outputs": [
    {
     "data": {
      "text/html": [
       "<div>\n",
       "<style scoped>\n",
       "    .dataframe tbody tr th:only-of-type {\n",
       "        vertical-align: middle;\n",
       "    }\n",
       "\n",
       "    .dataframe tbody tr th {\n",
       "        vertical-align: top;\n",
       "    }\n",
       "\n",
       "    .dataframe thead th {\n",
       "        text-align: right;\n",
       "    }\n",
       "</style>\n",
       "<table border=\"1\" class=\"dataframe\">\n",
       "  <thead>\n",
       "    <tr style=\"text-align: right;\">\n",
       "      <th></th>\n",
       "      <th>VUIDNO</th>\n",
       "      <th>VRCNUM</th>\n",
       "      <th>PCTCOD</th>\n",
       "      <th>EDRDAT</th>\n",
       "      <th>BLKNUM</th>\n",
       "      <th>RZIPCD</th>\n",
       "      <th>REFDAT</th>\n",
       "      <th>MZIPCD</th>\n",
       "      <th>MCHGDT</th>\n",
       "      <th>DIST21</th>\n",
       "    </tr>\n",
       "  </thead>\n",
       "  <tbody>\n",
       "    <tr>\n",
       "      <th>count</th>\n",
       "      <td>7.350980e+05</td>\n",
       "      <td>7.350980e+05</td>\n",
       "      <td>735098.000000</td>\n",
       "      <td>7.350980e+05</td>\n",
       "      <td>735098.000000</td>\n",
       "      <td>7.350980e+05</td>\n",
       "      <td>7.350980e+05</td>\n",
       "      <td>7.350980e+05</td>\n",
       "      <td>7.350980e+05</td>\n",
       "      <td>0.0</td>\n",
       "    </tr>\n",
       "    <tr>\n",
       "      <th>mean</th>\n",
       "      <td>1.335214e+09</td>\n",
       "      <td>2.025651e+07</td>\n",
       "      <td>285.041097</td>\n",
       "      <td>2.006623e+07</td>\n",
       "      <td>5762.620346</td>\n",
       "      <td>7.872249e+08</td>\n",
       "      <td>2.009427e+07</td>\n",
       "      <td>7.838112e+08</td>\n",
       "      <td>2.010953e+07</td>\n",
       "      <td>NaN</td>\n",
       "    </tr>\n",
       "    <tr>\n",
       "      <th>std</th>\n",
       "      <td>3.804694e+08</td>\n",
       "      <td>3.679620e+07</td>\n",
       "      <td>107.710535</td>\n",
       "      <td>1.101735e+05</td>\n",
       "      <td>4975.253229</td>\n",
       "      <td>4.382466e+05</td>\n",
       "      <td>3.417427e+05</td>\n",
       "      <td>4.926688e+07</td>\n",
       "      <td>7.726631e+04</td>\n",
       "      <td>NaN</td>\n",
       "    </tr>\n",
       "    <tr>\n",
       "      <th>min</th>\n",
       "      <td>1.000001e+09</td>\n",
       "      <td>2.000000e+00</td>\n",
       "      <td>101.000000</td>\n",
       "      <td>1.940013e+07</td>\n",
       "      <td>1.000000</td>\n",
       "      <td>7.657400e+08</td>\n",
       "      <td>0.000000e+00</td>\n",
       "      <td>0.000000e+00</td>\n",
       "      <td>1.940010e+07</td>\n",
       "      <td>NaN</td>\n",
       "    </tr>\n",
       "    <tr>\n",
       "      <th>25%</th>\n",
       "      <td>1.133256e+09</td>\n",
       "      <td>5.703768e+05</td>\n",
       "      <td>208.000000</td>\n",
       "      <td>2.001031e+07</td>\n",
       "      <td>1748.000000</td>\n",
       "      <td>7.870400e+08</td>\n",
       "      <td>2.008040e+07</td>\n",
       "      <td>7.870400e+08</td>\n",
       "      <td>2.008071e+07</td>\n",
       "      <td>NaN</td>\n",
       "    </tr>\n",
       "    <tr>\n",
       "      <th>50%</th>\n",
       "      <td>1.154601e+09</td>\n",
       "      <td>8.649625e+05</td>\n",
       "      <td>306.000000</td>\n",
       "      <td>2.011090e+07</td>\n",
       "      <td>4400.000000</td>\n",
       "      <td>7.873400e+08</td>\n",
       "      <td>2.014081e+07</td>\n",
       "      <td>7.873400e+08</td>\n",
       "      <td>2.014091e+07</td>\n",
       "      <td>NaN</td>\n",
       "    </tr>\n",
       "    <tr>\n",
       "      <th>75%</th>\n",
       "      <td>1.211995e+09</td>\n",
       "      <td>1.081039e+06</td>\n",
       "      <td>366.000000</td>\n",
       "      <td>2.015112e+07</td>\n",
       "      <td>8800.000000</td>\n",
       "      <td>7.874800e+08</td>\n",
       "      <td>2.016100e+07</td>\n",
       "      <td>7.874800e+08</td>\n",
       "      <td>2.016092e+07</td>\n",
       "      <td>NaN</td>\n",
       "    </tr>\n",
       "    <tr>\n",
       "      <th>max</th>\n",
       "      <td>2.143189e+09</td>\n",
       "      <td>9.904403e+07</td>\n",
       "      <td>799.000000</td>\n",
       "      <td>2.018041e+07</td>\n",
       "      <td>29811.000000</td>\n",
       "      <td>1.000000e+09</td>\n",
       "      <td>2.018032e+07</td>\n",
       "      <td>1.000000e+09</td>\n",
       "      <td>2.018022e+07</td>\n",
       "      <td>NaN</td>\n",
       "    </tr>\n",
       "  </tbody>\n",
       "</table>\n",
       "</div>"
      ],
      "text/plain": [
       "             VUIDNO        VRCNUM         PCTCOD        EDRDAT         BLKNUM  \\\n",
       "count  7.350980e+05  7.350980e+05  735098.000000  7.350980e+05  735098.000000   \n",
       "mean   1.335214e+09  2.025651e+07     285.041097  2.006623e+07    5762.620346   \n",
       "std    3.804694e+08  3.679620e+07     107.710535  1.101735e+05    4975.253229   \n",
       "min    1.000001e+09  2.000000e+00     101.000000  1.940013e+07       1.000000   \n",
       "25%    1.133256e+09  5.703768e+05     208.000000  2.001031e+07    1748.000000   \n",
       "50%    1.154601e+09  8.649625e+05     306.000000  2.011090e+07    4400.000000   \n",
       "75%    1.211995e+09  1.081039e+06     366.000000  2.015112e+07    8800.000000   \n",
       "max    2.143189e+09  9.904403e+07     799.000000  2.018041e+07   29811.000000   \n",
       "\n",
       "             RZIPCD        REFDAT        MZIPCD        MCHGDT  DIST21  \n",
       "count  7.350980e+05  7.350980e+05  7.350980e+05  7.350980e+05     0.0  \n",
       "mean   7.872249e+08  2.009427e+07  7.838112e+08  2.010953e+07     NaN  \n",
       "std    4.382466e+05  3.417427e+05  4.926688e+07  7.726631e+04     NaN  \n",
       "min    7.657400e+08  0.000000e+00  0.000000e+00  1.940010e+07     NaN  \n",
       "25%    7.870400e+08  2.008040e+07  7.870400e+08  2.008071e+07     NaN  \n",
       "50%    7.873400e+08  2.014081e+07  7.873400e+08  2.014091e+07     NaN  \n",
       "75%    7.874800e+08  2.016100e+07  7.874800e+08  2.016092e+07     NaN  \n",
       "max    1.000000e+09  2.018032e+07  1.000000e+09  2.018022e+07     NaN  "
      ]
     },
     "execution_count": 22,
     "metadata": {},
     "output_type": "execute_result"
    }
   ],
   "source": [
    "df.describe()"
   ]
  },
  {
   "cell_type": "code",
   "execution_count": 26,
   "metadata": {},
   "outputs": [
    {
     "data": {
      "text/html": [
       "<div>\n",
       "<style scoped>\n",
       "    .dataframe tbody tr th:only-of-type {\n",
       "        vertical-align: middle;\n",
       "    }\n",
       "\n",
       "    .dataframe tbody tr th {\n",
       "        vertical-align: top;\n",
       "    }\n",
       "\n",
       "    .dataframe thead th {\n",
       "        text-align: right;\n",
       "    }\n",
       "</style>\n",
       "<table border=\"1\" class=\"dataframe\">\n",
       "  <thead>\n",
       "    <tr style=\"text-align: right;\">\n",
       "      <th></th>\n",
       "      <th>VUIDNO</th>\n",
       "      <th>VRCNUM</th>\n",
       "      <th>PCTCOD</th>\n",
       "      <th>EDRDAT</th>\n",
       "      <th>GENDER</th>\n",
       "      <th>LSTNAM</th>\n",
       "      <th>NAMPFX</th>\n",
       "      <th>FSTNAM</th>\n",
       "      <th>MIDNAM</th>\n",
       "      <th>BLKNUM</th>\n",
       "      <th>...</th>\n",
       "      <th>DIST14</th>\n",
       "      <th>DIST15</th>\n",
       "      <th>DIST16</th>\n",
       "      <th>DIST17</th>\n",
       "      <th>DIST18</th>\n",
       "      <th>DIST19</th>\n",
       "      <th>DIST20</th>\n",
       "      <th>DIST21</th>\n",
       "      <th>DIST22</th>\n",
       "      <th>SUPRES</th>\n",
       "    </tr>\n",
       "  </thead>\n",
       "  <tbody>\n",
       "    <tr>\n",
       "      <th>508335</th>\n",
       "      <td>1214936904</td>\n",
       "      <td>836674</td>\n",
       "      <td>461</td>\n",
       "      <td>20141113</td>\n",
       "      <td>M</td>\n",
       "      <td>COHEN</td>\n",
       "      <td>NaN</td>\n",
       "      <td>DAVID</td>\n",
       "      <td>SAMUEL</td>\n",
       "      <td>1700</td>\n",
       "      <td>...</td>\n",
       "      <td>NaN</td>\n",
       "      <td>NaN</td>\n",
       "      <td>B05</td>\n",
       "      <td>ALL</td>\n",
       "      <td>ACC</td>\n",
       "      <td>CA5</td>\n",
       "      <td>NaN</td>\n",
       "      <td>NaN</td>\n",
       "      <td>NaN</td>\n",
       "      <td>N</td>\n",
       "    </tr>\n",
       "    <tr>\n",
       "      <th>509620</th>\n",
       "      <td>1215156930</td>\n",
       "      <td>838344</td>\n",
       "      <td>420</td>\n",
       "      <td>20141206</td>\n",
       "      <td>M</td>\n",
       "      <td>HALLEE</td>\n",
       "      <td>NaN</td>\n",
       "      <td>CONNOR</td>\n",
       "      <td>HAMILTON</td>\n",
       "      <td>3300</td>\n",
       "      <td>...</td>\n",
       "      <td>NaN</td>\n",
       "      <td>NaN</td>\n",
       "      <td>B05</td>\n",
       "      <td>ALL</td>\n",
       "      <td>ACC</td>\n",
       "      <td>CA3</td>\n",
       "      <td>NaN</td>\n",
       "      <td>NaN</td>\n",
       "      <td>NaN</td>\n",
       "      <td>N</td>\n",
       "    </tr>\n",
       "    <tr>\n",
       "      <th>490884</th>\n",
       "      <td>1213103057</td>\n",
       "      <td>813158</td>\n",
       "      <td>421</td>\n",
       "      <td>20141007</td>\n",
       "      <td>M</td>\n",
       "      <td>OBERDORFER</td>\n",
       "      <td>NaN</td>\n",
       "      <td>CHRISTOPHER</td>\n",
       "      <td>FALK</td>\n",
       "      <td>1007</td>\n",
       "      <td>...</td>\n",
       "      <td>NaN</td>\n",
       "      <td>NaN</td>\n",
       "      <td>B05</td>\n",
       "      <td>ALL</td>\n",
       "      <td>ACC</td>\n",
       "      <td>CA9</td>\n",
       "      <td>NaN</td>\n",
       "      <td>NaN</td>\n",
       "      <td>NaN</td>\n",
       "      <td>N</td>\n",
       "    </tr>\n",
       "    <tr>\n",
       "      <th>126290</th>\n",
       "      <td>1149846852</td>\n",
       "      <td>422367</td>\n",
       "      <td>109</td>\n",
       "      <td>20080304</td>\n",
       "      <td>M</td>\n",
       "      <td>BERRY</td>\n",
       "      <td>NaN</td>\n",
       "      <td>LUIS</td>\n",
       "      <td>MITCHELL</td>\n",
       "      <td>2111</td>\n",
       "      <td>...</td>\n",
       "      <td>NaN</td>\n",
       "      <td>NaN</td>\n",
       "      <td>B10</td>\n",
       "      <td>ALL</td>\n",
       "      <td>ACC</td>\n",
       "      <td>CA7</td>\n",
       "      <td>NaN</td>\n",
       "      <td>NaN</td>\n",
       "      <td>NaN</td>\n",
       "      <td>N</td>\n",
       "    </tr>\n",
       "    <tr>\n",
       "      <th>172943</th>\n",
       "      <td>1167619195</td>\n",
       "      <td>546700</td>\n",
       "      <td>117</td>\n",
       "      <td>20091120</td>\n",
       "      <td>F</td>\n",
       "      <td>PINEDA</td>\n",
       "      <td>NaN</td>\n",
       "      <td>ANAY</td>\n",
       "      <td>MADELLEIN</td>\n",
       "      <td>7610</td>\n",
       "      <td>...</td>\n",
       "      <td>NaN</td>\n",
       "      <td>NaN</td>\n",
       "      <td>B05</td>\n",
       "      <td>ALL</td>\n",
       "      <td>ACC</td>\n",
       "      <td>NaN</td>\n",
       "      <td>NaN</td>\n",
       "      <td>NaN</td>\n",
       "      <td>NaN</td>\n",
       "      <td>N</td>\n",
       "    </tr>\n",
       "    <tr>\n",
       "      <th>139496</th>\n",
       "      <td>1155046537</td>\n",
       "      <td>457032</td>\n",
       "      <td>315</td>\n",
       "      <td>20080821</td>\n",
       "      <td>F</td>\n",
       "      <td>KINBAR</td>\n",
       "      <td>NaN</td>\n",
       "      <td>ANNA</td>\n",
       "      <td>MARINA</td>\n",
       "      <td>11522</td>\n",
       "      <td>...</td>\n",
       "      <td>NaN</td>\n",
       "      <td>NaN</td>\n",
       "      <td>B05</td>\n",
       "      <td>ALL</td>\n",
       "      <td>ACC</td>\n",
       "      <td>NaN</td>\n",
       "      <td>NaN</td>\n",
       "      <td>NaN</td>\n",
       "      <td>NaN</td>\n",
       "      <td>N</td>\n",
       "    </tr>\n",
       "    <tr>\n",
       "      <th>682791</th>\n",
       "      <td>2135598754</td>\n",
       "      <td>1046657</td>\n",
       "      <td>117</td>\n",
       "      <td>20170324</td>\n",
       "      <td>F</td>\n",
       "      <td>REYNOLDS</td>\n",
       "      <td>NaN</td>\n",
       "      <td>MOLLY</td>\n",
       "      <td>ELIZABETH</td>\n",
       "      <td>6810</td>\n",
       "      <td>...</td>\n",
       "      <td>NaN</td>\n",
       "      <td>NaN</td>\n",
       "      <td>B05</td>\n",
       "      <td>ALL</td>\n",
       "      <td>ACC</td>\n",
       "      <td>CA1</td>\n",
       "      <td>NaN</td>\n",
       "      <td>NaN</td>\n",
       "      <td>NaN</td>\n",
       "      <td>N</td>\n",
       "    </tr>\n",
       "    <tr>\n",
       "      <th>510926</th>\n",
       "      <td>1061375412</td>\n",
       "      <td>840137</td>\n",
       "      <td>354</td>\n",
       "      <td>20141212</td>\n",
       "      <td>M</td>\n",
       "      <td>MCKINNEY</td>\n",
       "      <td>NaN</td>\n",
       "      <td>DAVID</td>\n",
       "      <td>WAYNE</td>\n",
       "      <td>4424</td>\n",
       "      <td>...</td>\n",
       "      <td>NaN</td>\n",
       "      <td>NaN</td>\n",
       "      <td>B05</td>\n",
       "      <td>ALL</td>\n",
       "      <td>ACC</td>\n",
       "      <td>CA8</td>\n",
       "      <td>NaN</td>\n",
       "      <td>NaN</td>\n",
       "      <td>NaN</td>\n",
       "      <td>N</td>\n",
       "    </tr>\n",
       "    <tr>\n",
       "      <th>472079</th>\n",
       "      <td>1208001902</td>\n",
       "      <td>787648</td>\n",
       "      <td>369</td>\n",
       "      <td>20140307</td>\n",
       "      <td>M</td>\n",
       "      <td>NOSKA</td>\n",
       "      <td>NaN</td>\n",
       "      <td>ZACHARY</td>\n",
       "      <td>DALE</td>\n",
       "      <td>2508</td>\n",
       "      <td>...</td>\n",
       "      <td>NaN</td>\n",
       "      <td>NaN</td>\n",
       "      <td>B10</td>\n",
       "      <td>ALL</td>\n",
       "      <td>ACC</td>\n",
       "      <td>NaN</td>\n",
       "      <td>NaN</td>\n",
       "      <td>NaN</td>\n",
       "      <td>NaN</td>\n",
       "      <td>N</td>\n",
       "    </tr>\n",
       "    <tr>\n",
       "      <th>672460</th>\n",
       "      <td>1136783793</td>\n",
       "      <td>1035102</td>\n",
       "      <td>245</td>\n",
       "      <td>20161208</td>\n",
       "      <td>F</td>\n",
       "      <td>VORHIES</td>\n",
       "      <td>NaN</td>\n",
       "      <td>JERRI</td>\n",
       "      <td>CATHRON</td>\n",
       "      <td>8600</td>\n",
       "      <td>...</td>\n",
       "      <td>NaN</td>\n",
       "      <td>NaN</td>\n",
       "      <td>B10</td>\n",
       "      <td>ALL</td>\n",
       "      <td>ACC</td>\n",
       "      <td>CA6</td>\n",
       "      <td>NaN</td>\n",
       "      <td>NaN</td>\n",
       "      <td>NaN</td>\n",
       "      <td>N</td>\n",
       "    </tr>\n",
       "  </tbody>\n",
       "</table>\n",
       "<p>10 rows × 50 columns</p>\n",
       "</div>"
      ],
      "text/plain": [
       "            VUIDNO   VRCNUM  PCTCOD    EDRDAT GENDER      LSTNAM NAMPFX  \\\n",
       "508335  1214936904   836674     461  20141113      M       COHEN    NaN   \n",
       "509620  1215156930   838344     420  20141206      M      HALLEE    NaN   \n",
       "490884  1213103057   813158     421  20141007      M  OBERDORFER    NaN   \n",
       "126290  1149846852   422367     109  20080304      M       BERRY    NaN   \n",
       "172943  1167619195   546700     117  20091120      F      PINEDA    NaN   \n",
       "139496  1155046537   457032     315  20080821      F      KINBAR    NaN   \n",
       "682791  2135598754  1046657     117  20170324      F    REYNOLDS    NaN   \n",
       "510926  1061375412   840137     354  20141212      M    MCKINNEY    NaN   \n",
       "472079  1208001902   787648     369  20140307      M       NOSKA    NaN   \n",
       "672460  1136783793  1035102     245  20161208      F     VORHIES    NaN   \n",
       "\n",
       "             FSTNAM     MIDNAM  BLKNUM  ...   DIST14 DIST15 DIST16 DIST17  \\\n",
       "508335        DAVID     SAMUEL    1700  ...      NaN    NaN    B05    ALL   \n",
       "509620       CONNOR   HAMILTON    3300  ...      NaN    NaN    B05    ALL   \n",
       "490884  CHRISTOPHER       FALK    1007  ...      NaN    NaN    B05    ALL   \n",
       "126290         LUIS   MITCHELL    2111  ...      NaN    NaN    B10    ALL   \n",
       "172943         ANAY  MADELLEIN    7610  ...      NaN    NaN    B05    ALL   \n",
       "139496         ANNA     MARINA   11522  ...      NaN    NaN    B05    ALL   \n",
       "682791        MOLLY  ELIZABETH    6810  ...      NaN    NaN    B05    ALL   \n",
       "510926        DAVID      WAYNE    4424  ...      NaN    NaN    B05    ALL   \n",
       "472079      ZACHARY       DALE    2508  ...      NaN    NaN    B10    ALL   \n",
       "672460        JERRI    CATHRON    8600  ...      NaN    NaN    B10    ALL   \n",
       "\n",
       "       DIST18 DIST19 DIST20  DIST21  DIST22 SUPRES  \n",
       "508335    ACC    CA5    NaN     NaN     NaN      N  \n",
       "509620    ACC    CA3    NaN     NaN     NaN      N  \n",
       "490884    ACC    CA9    NaN     NaN     NaN      N  \n",
       "126290    ACC    CA7    NaN     NaN     NaN      N  \n",
       "172943    ACC    NaN    NaN     NaN     NaN      N  \n",
       "139496    ACC    NaN    NaN     NaN     NaN      N  \n",
       "682791    ACC    CA1    NaN     NaN     NaN      N  \n",
       "510926    ACC    CA8    NaN     NaN     NaN      N  \n",
       "472079    ACC    NaN    NaN     NaN     NaN      N  \n",
       "672460    ACC    CA6    NaN     NaN     NaN      N  \n",
       "\n",
       "[10 rows x 50 columns]"
      ]
     },
     "execution_count": 26,
     "metadata": {},
     "output_type": "execute_result"
    }
   ],
   "source": [
    "# print smaple from the data frame randomly\n",
    "df.sample(10)"
   ]
  },
  {
   "cell_type": "code",
   "execution_count": 6,
   "metadata": {},
   "outputs": [
    {
     "ename": "ValueError",
     "evalue": "'MCHGDT' is not in list",
     "output_type": "error",
     "traceback": [
      "\u001b[0;31m---------------------------------------------------------------------------\u001b[0m",
      "\u001b[0;31mValueError\u001b[0m                                Traceback (most recent call last)",
      "\u001b[0;32m<ipython-input-6-31cb3968998b>\u001b[0m in \u001b[0;36m<module>\u001b[0;34m()\u001b[0m\n\u001b[1;32m      3\u001b[0m     \u001b[0;32mreturn\u001b[0m \u001b[0mpd\u001b[0m\u001b[0;34m.\u001b[0m\u001b[0mto_datetime\u001b[0m\u001b[0;34m(\u001b[0m\u001b[0mstr\u001b[0m\u001b[0;34m(\u001b[0m\u001b[0mn\u001b[0m\u001b[0;34m)\u001b[0m\u001b[0;34m,\u001b[0m \u001b[0mformat\u001b[0m\u001b[0;34m=\u001b[0m\u001b[0;34m'%Y%m%d'\u001b[0m\u001b[0;34m)\u001b[0m\u001b[0;34m\u001b[0m\u001b[0m\n\u001b[1;32m      4\u001b[0m \u001b[0;34m\u001b[0m\u001b[0m\n\u001b[0;32m----> 5\u001b[0;31m \u001b[0mdf\u001b[0m \u001b[0;34m=\u001b[0m \u001b[0mpd\u001b[0m\u001b[0;34m.\u001b[0m\u001b[0mread_csv\u001b[0m\u001b[0;34m(\u001b[0m\u001b[0;34m'VoterRegOpenData.csv'\u001b[0m\u001b[0;34m,\u001b[0m \u001b[0msep\u001b[0m\u001b[0;34m=\u001b[0m\u001b[0;34m','\u001b[0m\u001b[0;34m,\u001b[0m \u001b[0mheader\u001b[0m\u001b[0;34m=\u001b[0m\u001b[0;36m0\u001b[0m\u001b[0;34m,\u001b[0m \u001b[0mparse_dates\u001b[0m\u001b[0;34m=\u001b[0m\u001b[0;34m[\u001b[0m\u001b[0;34m'MCHGDT'\u001b[0m\u001b[0;34m]\u001b[0m\u001b[0;34m,\u001b[0m \u001b[0mdate_parser\u001b[0m\u001b[0;34m=\u001b[0m\u001b[0mtimestamp_parser\u001b[0m\u001b[0;34m,\u001b[0m \u001b[0mindex_col\u001b[0m\u001b[0;34m=\u001b[0m\u001b[0;34m'MCHGDT'\u001b[0m\u001b[0;34m)\u001b[0m\u001b[0;34m\u001b[0m\u001b[0m\n\u001b[0m",
      "\u001b[0;32m/usr/local/lib/python3.6/site-packages/pandas/io/parsers.py\u001b[0m in \u001b[0;36mparser_f\u001b[0;34m(filepath_or_buffer, sep, delimiter, header, names, index_col, usecols, squeeze, prefix, mangle_dupe_cols, dtype, engine, converters, true_values, false_values, skipinitialspace, skiprows, nrows, na_values, keep_default_na, na_filter, verbose, skip_blank_lines, parse_dates, infer_datetime_format, keep_date_col, date_parser, dayfirst, iterator, chunksize, compression, thousands, decimal, lineterminator, quotechar, quoting, escapechar, comment, encoding, dialect, tupleize_cols, error_bad_lines, warn_bad_lines, skipfooter, skip_footer, doublequote, delim_whitespace, as_recarray, compact_ints, use_unsigned, low_memory, buffer_lines, memory_map, float_precision)\u001b[0m\n\u001b[1;32m    707\u001b[0m                     skip_blank_lines=skip_blank_lines)\n\u001b[1;32m    708\u001b[0m \u001b[0;34m\u001b[0m\u001b[0m\n\u001b[0;32m--> 709\u001b[0;31m         \u001b[0;32mreturn\u001b[0m \u001b[0m_read\u001b[0m\u001b[0;34m(\u001b[0m\u001b[0mfilepath_or_buffer\u001b[0m\u001b[0;34m,\u001b[0m \u001b[0mkwds\u001b[0m\u001b[0;34m)\u001b[0m\u001b[0;34m\u001b[0m\u001b[0m\n\u001b[0m\u001b[1;32m    710\u001b[0m \u001b[0;34m\u001b[0m\u001b[0m\n\u001b[1;32m    711\u001b[0m     \u001b[0mparser_f\u001b[0m\u001b[0;34m.\u001b[0m\u001b[0m__name__\u001b[0m \u001b[0;34m=\u001b[0m \u001b[0mname\u001b[0m\u001b[0;34m\u001b[0m\u001b[0m\n",
      "\u001b[0;32m/usr/local/lib/python3.6/site-packages/pandas/io/parsers.py\u001b[0m in \u001b[0;36m_read\u001b[0;34m(filepath_or_buffer, kwds)\u001b[0m\n\u001b[1;32m    447\u001b[0m \u001b[0;34m\u001b[0m\u001b[0m\n\u001b[1;32m    448\u001b[0m     \u001b[0;31m# Create the parser.\u001b[0m\u001b[0;34m\u001b[0m\u001b[0;34m\u001b[0m\u001b[0m\n\u001b[0;32m--> 449\u001b[0;31m     \u001b[0mparser\u001b[0m \u001b[0;34m=\u001b[0m \u001b[0mTextFileReader\u001b[0m\u001b[0;34m(\u001b[0m\u001b[0mfilepath_or_buffer\u001b[0m\u001b[0;34m,\u001b[0m \u001b[0;34m**\u001b[0m\u001b[0mkwds\u001b[0m\u001b[0;34m)\u001b[0m\u001b[0;34m\u001b[0m\u001b[0m\n\u001b[0m\u001b[1;32m    450\u001b[0m \u001b[0;34m\u001b[0m\u001b[0m\n\u001b[1;32m    451\u001b[0m     \u001b[0;32mif\u001b[0m \u001b[0mchunksize\u001b[0m \u001b[0;32mor\u001b[0m \u001b[0miterator\u001b[0m\u001b[0;34m:\u001b[0m\u001b[0;34m\u001b[0m\u001b[0m\n",
      "\u001b[0;32m/usr/local/lib/python3.6/site-packages/pandas/io/parsers.py\u001b[0m in \u001b[0;36m__init__\u001b[0;34m(self, f, engine, **kwds)\u001b[0m\n\u001b[1;32m    816\u001b[0m             \u001b[0mself\u001b[0m\u001b[0;34m.\u001b[0m\u001b[0moptions\u001b[0m\u001b[0;34m[\u001b[0m\u001b[0;34m'has_index_names'\u001b[0m\u001b[0;34m]\u001b[0m \u001b[0;34m=\u001b[0m \u001b[0mkwds\u001b[0m\u001b[0;34m[\u001b[0m\u001b[0;34m'has_index_names'\u001b[0m\u001b[0;34m]\u001b[0m\u001b[0;34m\u001b[0m\u001b[0m\n\u001b[1;32m    817\u001b[0m \u001b[0;34m\u001b[0m\u001b[0m\n\u001b[0;32m--> 818\u001b[0;31m         \u001b[0mself\u001b[0m\u001b[0;34m.\u001b[0m\u001b[0m_make_engine\u001b[0m\u001b[0;34m(\u001b[0m\u001b[0mself\u001b[0m\u001b[0;34m.\u001b[0m\u001b[0mengine\u001b[0m\u001b[0;34m)\u001b[0m\u001b[0;34m\u001b[0m\u001b[0m\n\u001b[0m\u001b[1;32m    819\u001b[0m \u001b[0;34m\u001b[0m\u001b[0m\n\u001b[1;32m    820\u001b[0m     \u001b[0;32mdef\u001b[0m \u001b[0mclose\u001b[0m\u001b[0;34m(\u001b[0m\u001b[0mself\u001b[0m\u001b[0;34m)\u001b[0m\u001b[0;34m:\u001b[0m\u001b[0;34m\u001b[0m\u001b[0m\n",
      "\u001b[0;32m/usr/local/lib/python3.6/site-packages/pandas/io/parsers.py\u001b[0m in \u001b[0;36m_make_engine\u001b[0;34m(self, engine)\u001b[0m\n\u001b[1;32m   1047\u001b[0m     \u001b[0;32mdef\u001b[0m \u001b[0m_make_engine\u001b[0m\u001b[0;34m(\u001b[0m\u001b[0mself\u001b[0m\u001b[0;34m,\u001b[0m \u001b[0mengine\u001b[0m\u001b[0;34m=\u001b[0m\u001b[0;34m'c'\u001b[0m\u001b[0;34m)\u001b[0m\u001b[0;34m:\u001b[0m\u001b[0;34m\u001b[0m\u001b[0m\n\u001b[1;32m   1048\u001b[0m         \u001b[0;32mif\u001b[0m \u001b[0mengine\u001b[0m \u001b[0;34m==\u001b[0m \u001b[0;34m'c'\u001b[0m\u001b[0;34m:\u001b[0m\u001b[0;34m\u001b[0m\u001b[0m\n\u001b[0;32m-> 1049\u001b[0;31m             \u001b[0mself\u001b[0m\u001b[0;34m.\u001b[0m\u001b[0m_engine\u001b[0m \u001b[0;34m=\u001b[0m \u001b[0mCParserWrapper\u001b[0m\u001b[0;34m(\u001b[0m\u001b[0mself\u001b[0m\u001b[0;34m.\u001b[0m\u001b[0mf\u001b[0m\u001b[0;34m,\u001b[0m \u001b[0;34m**\u001b[0m\u001b[0mself\u001b[0m\u001b[0;34m.\u001b[0m\u001b[0moptions\u001b[0m\u001b[0;34m)\u001b[0m\u001b[0;34m\u001b[0m\u001b[0m\n\u001b[0m\u001b[1;32m   1050\u001b[0m         \u001b[0;32melse\u001b[0m\u001b[0;34m:\u001b[0m\u001b[0;34m\u001b[0m\u001b[0m\n\u001b[1;32m   1051\u001b[0m             \u001b[0;32mif\u001b[0m \u001b[0mengine\u001b[0m \u001b[0;34m==\u001b[0m \u001b[0;34m'python'\u001b[0m\u001b[0;34m:\u001b[0m\u001b[0;34m\u001b[0m\u001b[0m\n",
      "\u001b[0;32m/usr/local/lib/python3.6/site-packages/pandas/io/parsers.py\u001b[0m in \u001b[0;36m__init__\u001b[0;34m(self, src, **kwds)\u001b[0m\n\u001b[1;32m   1747\u001b[0m                 \u001b[0;32mraise\u001b[0m \u001b[0mValueError\u001b[0m\u001b[0;34m(\u001b[0m\u001b[0;34m\"Usecols do not match names.\"\u001b[0m\u001b[0;34m)\u001b[0m\u001b[0;34m\u001b[0m\u001b[0m\n\u001b[1;32m   1748\u001b[0m \u001b[0;34m\u001b[0m\u001b[0m\n\u001b[0;32m-> 1749\u001b[0;31m         \u001b[0mself\u001b[0m\u001b[0;34m.\u001b[0m\u001b[0m_set_noconvert_columns\u001b[0m\u001b[0;34m(\u001b[0m\u001b[0;34m)\u001b[0m\u001b[0;34m\u001b[0m\u001b[0m\n\u001b[0m\u001b[1;32m   1750\u001b[0m \u001b[0;34m\u001b[0m\u001b[0m\n\u001b[1;32m   1751\u001b[0m         \u001b[0mself\u001b[0m\u001b[0;34m.\u001b[0m\u001b[0morig_names\u001b[0m \u001b[0;34m=\u001b[0m \u001b[0mself\u001b[0m\u001b[0;34m.\u001b[0m\u001b[0mnames\u001b[0m\u001b[0;34m\u001b[0m\u001b[0m\n",
      "\u001b[0;32m/usr/local/lib/python3.6/site-packages/pandas/io/parsers.py\u001b[0m in \u001b[0;36m_set_noconvert_columns\u001b[0;34m(self)\u001b[0m\n\u001b[1;32m   1815\u001b[0m                         \u001b[0m_set\u001b[0m\u001b[0;34m(\u001b[0m\u001b[0mk\u001b[0m\u001b[0;34m)\u001b[0m\u001b[0;34m\u001b[0m\u001b[0m\n\u001b[1;32m   1816\u001b[0m                 \u001b[0;32melse\u001b[0m\u001b[0;34m:\u001b[0m\u001b[0;34m\u001b[0m\u001b[0m\n\u001b[0;32m-> 1817\u001b[0;31m                     \u001b[0m_set\u001b[0m\u001b[0;34m(\u001b[0m\u001b[0mval\u001b[0m\u001b[0;34m)\u001b[0m\u001b[0;34m\u001b[0m\u001b[0m\n\u001b[0m\u001b[1;32m   1818\u001b[0m \u001b[0;34m\u001b[0m\u001b[0m\n\u001b[1;32m   1819\u001b[0m         \u001b[0;32melif\u001b[0m \u001b[0misinstance\u001b[0m\u001b[0;34m(\u001b[0m\u001b[0mself\u001b[0m\u001b[0;34m.\u001b[0m\u001b[0mparse_dates\u001b[0m\u001b[0;34m,\u001b[0m \u001b[0mdict\u001b[0m\u001b[0;34m)\u001b[0m\u001b[0;34m:\u001b[0m\u001b[0;34m\u001b[0m\u001b[0m\n",
      "\u001b[0;32m/usr/local/lib/python3.6/site-packages/pandas/io/parsers.py\u001b[0m in \u001b[0;36m_set\u001b[0;34m(x)\u001b[0m\n\u001b[1;32m   1805\u001b[0m \u001b[0;34m\u001b[0m\u001b[0m\n\u001b[1;32m   1806\u001b[0m             \u001b[0;32mif\u001b[0m \u001b[0;32mnot\u001b[0m \u001b[0mis_integer\u001b[0m\u001b[0;34m(\u001b[0m\u001b[0mx\u001b[0m\u001b[0;34m)\u001b[0m\u001b[0;34m:\u001b[0m\u001b[0;34m\u001b[0m\u001b[0m\n\u001b[0;32m-> 1807\u001b[0;31m                 \u001b[0mx\u001b[0m \u001b[0;34m=\u001b[0m \u001b[0mnames\u001b[0m\u001b[0;34m.\u001b[0m\u001b[0mindex\u001b[0m\u001b[0;34m(\u001b[0m\u001b[0mx\u001b[0m\u001b[0;34m)\u001b[0m\u001b[0;34m\u001b[0m\u001b[0m\n\u001b[0m\u001b[1;32m   1808\u001b[0m \u001b[0;34m\u001b[0m\u001b[0m\n\u001b[1;32m   1809\u001b[0m             \u001b[0mself\u001b[0m\u001b[0;34m.\u001b[0m\u001b[0m_reader\u001b[0m\u001b[0;34m.\u001b[0m\u001b[0mset_noconvert\u001b[0m\u001b[0;34m(\u001b[0m\u001b[0mx\u001b[0m\u001b[0;34m)\u001b[0m\u001b[0;34m\u001b[0m\u001b[0m\n",
      "\u001b[0;31mValueError\u001b[0m: 'MCHGDT' is not in list"
     ]
    }
   ],
   "source": [
    "def timestamp_parser(n):\n",
    "    # Specify the unit you need\n",
    "    return pd.to_datetime(str(n), format='%Y%m%d')\n",
    "\n",
    "df = pd.read_csv('VoterRegOpenData.csv', sep=',', header=0, parse_dates=['MCHGDT'], date_parser=timestamp_parser, index_col='MCHGDT')"
   ]
  },
  {
   "cell_type": "code",
   "execution_count": null,
   "metadata": {
    "collapsed": true
   },
   "outputs": [],
   "source": [
    "df.head()"
   ]
  },
  {
   "cell_type": "code",
   "execution_count": null,
   "metadata": {
    "collapsed": true
   },
   "outputs": [],
   "source": [
    "df.describe()"
   ]
  },
  {
   "cell_type": "code",
   "execution_count": null,
   "metadata": {
    "collapsed": true
   },
   "outputs": [],
   "source": [
    "grouped_country = df.groupby(['Country'])"
   ]
  },
  {
   "cell_type": "code",
   "execution_count": null,
   "metadata": {
    "collapsed": true
   },
   "outputs": [],
   "source": [
    "grouped_country.size()"
   ]
  },
  {
   "cell_type": "code",
   "execution_count": null,
   "metadata": {
    "collapsed": true
   },
   "outputs": [],
   "source": [
    "grouped_country_city = df.groupby(['Country', 'City'])"
   ]
  },
  {
   "cell_type": "code",
   "execution_count": null,
   "metadata": {
    "collapsed": true
   },
   "outputs": [],
   "source": [
    "grouped_country_city.size()"
   ]
  },
  {
   "cell_type": "code",
   "execution_count": null,
   "metadata": {
    "collapsed": true
   },
   "outputs": [],
   "source": [
    "grouped = df.groupby(['first_octet','class_b','class_c'])"
   ]
  },
  {
   "cell_type": "code",
   "execution_count": null,
   "metadata": {
    "collapsed": true
   },
   "outputs": [],
   "source": [
    "grouped.size()"
   ]
  },
  {
   "cell_type": "code",
   "execution_count": null,
   "metadata": {
    "collapsed": true
   },
   "outputs": [],
   "source": [
    "def timestamp_parser(n):\n",
    "    # Specify the unit you need\n",
    "    return pd.to_datetime(float(n), unit='s')\n",
    "\n",
    "dfa = pd.read_csv('krep.csv', sep=',', header=0, parse_dates=['Timestamp'], date_parser=timestamp_parser, index_col='Letter')"
   ]
  },
  {
   "cell_type": "code",
   "execution_count": null,
   "metadata": {
    "collapsed": true,
    "scrolled": true
   },
   "outputs": [],
   "source": [
    "dfa.head()"
   ]
  },
  {
   "cell_type": "code",
   "execution_count": null,
   "metadata": {
    "collapsed": true
   },
   "outputs": [],
   "source": [
    "dfa[['Number', 'Ping']].plot()"
   ]
  },
  {
   "cell_type": "code",
   "execution_count": null,
   "metadata": {
    "collapsed": true
   },
   "outputs": [],
   "source": [
    "dfa.describe"
   ]
  },
  {
   "cell_type": "code",
   "execution_count": null,
   "metadata": {
    "collapsed": true
   },
   "outputs": [],
   "source": [
    "grouped = df.groupby(['Letter','OrgAbuseEmail'])"
   ]
  },
  {
   "cell_type": "code",
   "execution_count": null,
   "metadata": {
    "collapsed": true
   },
   "outputs": [],
   "source": [
    "grouped.size()"
   ]
  },
  {
   "cell_type": "code",
   "execution_count": null,
   "metadata": {
    "collapsed": true
   },
   "outputs": [],
   "source": [
    "grouped.aggregate(np.sum)"
   ]
  },
  {
   "cell_type": "code",
   "execution_count": null,
   "metadata": {
    "collapsed": true
   },
   "outputs": [],
   "source": [
    "grouped = df.groupby('Letter')"
   ]
  },
  {
   "cell_type": "code",
   "execution_count": null,
   "metadata": {
    "collapsed": true
   },
   "outputs": [],
   "source": [
    "grouped.size()"
   ]
  },
  {
   "cell_type": "code",
   "execution_count": null,
   "metadata": {
    "collapsed": true
   },
   "outputs": [],
   "source": []
  },
  {
   "cell_type": "code",
   "execution_count": null,
   "metadata": {
    "collapsed": true
   },
   "outputs": [],
   "source": []
  }
 ],
 "metadata": {
  "kernelspec": {
   "display_name": "Python 3",
   "language": "python",
   "name": "python3"
  },
  "language_info": {
   "codemirror_mode": {
    "name": "ipython",
    "version": 3
   },
   "file_extension": ".py",
   "mimetype": "text/x-python",
   "name": "python",
   "nbconvert_exporter": "python",
   "pygments_lexer": "ipython3",
   "version": "3.6.3"
  }
 },
 "nbformat": 4,
 "nbformat_minor": 2
}
