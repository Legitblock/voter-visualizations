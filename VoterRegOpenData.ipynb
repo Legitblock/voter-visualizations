{
 "cells": [
  {
   "cell_type": "markdown",
   "metadata": {},
   "source": [
    "# 1.2. Getting started with exploratory data analysis in the Jupyter Notebook"
   ]
  },
  {
   "cell_type": "code",
   "execution_count": 2,
   "metadata": {
    "collapsed": true
   },
   "outputs": [],
   "source": [
    "import numpy as np\n",
    "import pandas as pd\n",
    "import matplotlib.pyplot as plt\n",
    "%matplotlib inline"
   ]
  },
  {
   "cell_type": "code",
   "execution_count": 3,
   "metadata": {
    "collapsed": true
   },
   "outputs": [],
   "source": [
    "df = pd.read_csv('.csv',sep=',' , encoding='latin-1', skiprows =10)"
   ]
  },
  {
   "cell_type": "code",
   "execution_count": 4,
   "metadata": {},
   "outputs": [
    {
     "data": {
      "text/html": [
       "<div>\n",
       "<style scoped>\n",
       "    .dataframe tbody tr th:only-of-type {\n",
       "        vertical-align: middle;\n",
       "    }\n",
       "\n",
       "    .dataframe tbody tr th {\n",
       "        vertical-align: top;\n",
       "    }\n",
       "\n",
       "    .dataframe thead th {\n",
       "        text-align: right;\n",
       "    }\n",
       "</style>\n",
       "<table border=\"1\" class=\"dataframe\">\n",
       "  <thead>\n",
       "    <tr style=\"text-align: right;\">\n",
       "      <th></th>\n",
       "      <th>VUIDNO</th>\n",
       "      <th>VRCNUM</th>\n",
       "      <th>PCTCOD</th>\n",
       "      <th>EDRDAT</th>\n",
       "      <th>BLKNUM</th>\n",
       "      <th>RZIPCD</th>\n",
       "      <th>REFDAT</th>\n",
       "      <th>MZIPCD</th>\n",
       "      <th>MCHGDT</th>\n",
       "      <th>DIST21</th>\n",
       "    </tr>\n",
       "  </thead>\n",
       "  <tbody>\n",
       "    <tr>\n",
       "      <th>count</th>\n",
       "      <td>7.350980e+05</td>\n",
       "      <td>7.350980e+05</td>\n",
       "      <td>735098.000000</td>\n",
       "      <td>7.350980e+05</td>\n",
       "      <td>735098.000000</td>\n",
       "      <td>7.350980e+05</td>\n",
       "      <td>7.350980e+05</td>\n",
       "      <td>7.350980e+05</td>\n",
       "      <td>7.350980e+05</td>\n",
       "      <td>0.0</td>\n",
       "    </tr>\n",
       "    <tr>\n",
       "      <th>mean</th>\n",
       "      <td>1.335214e+09</td>\n",
       "      <td>2.025651e+07</td>\n",
       "      <td>285.041097</td>\n",
       "      <td>2.006623e+07</td>\n",
       "      <td>5762.620346</td>\n",
       "      <td>7.872249e+08</td>\n",
       "      <td>2.009427e+07</td>\n",
       "      <td>7.838112e+08</td>\n",
       "      <td>2.010953e+07</td>\n",
       "      <td>NaN</td>\n",
       "    </tr>\n",
       "    <tr>\n",
       "      <th>std</th>\n",
       "      <td>3.804694e+08</td>\n",
       "      <td>3.679620e+07</td>\n",
       "      <td>107.710535</td>\n",
       "      <td>1.101735e+05</td>\n",
       "      <td>4975.253229</td>\n",
       "      <td>4.382466e+05</td>\n",
       "      <td>3.417427e+05</td>\n",
       "      <td>4.926688e+07</td>\n",
       "      <td>7.726631e+04</td>\n",
       "      <td>NaN</td>\n",
       "    </tr>\n",
       "    <tr>\n",
       "      <th>min</th>\n",
       "      <td>1.000001e+09</td>\n",
       "      <td>2.000000e+00</td>\n",
       "      <td>101.000000</td>\n",
       "      <td>1.940013e+07</td>\n",
       "      <td>1.000000</td>\n",
       "      <td>7.657400e+08</td>\n",
       "      <td>0.000000e+00</td>\n",
       "      <td>0.000000e+00</td>\n",
       "      <td>1.940010e+07</td>\n",
       "      <td>NaN</td>\n",
       "    </tr>\n",
       "    <tr>\n",
       "      <th>25%</th>\n",
       "      <td>1.133256e+09</td>\n",
       "      <td>5.703768e+05</td>\n",
       "      <td>208.000000</td>\n",
       "      <td>2.001031e+07</td>\n",
       "      <td>1748.000000</td>\n",
       "      <td>7.870400e+08</td>\n",
       "      <td>2.008040e+07</td>\n",
       "      <td>7.870400e+08</td>\n",
       "      <td>2.008071e+07</td>\n",
       "      <td>NaN</td>\n",
       "    </tr>\n",
       "    <tr>\n",
       "      <th>50%</th>\n",
       "      <td>1.154601e+09</td>\n",
       "      <td>8.649625e+05</td>\n",
       "      <td>306.000000</td>\n",
       "      <td>2.011090e+07</td>\n",
       "      <td>4400.000000</td>\n",
       "      <td>7.873400e+08</td>\n",
       "      <td>2.014081e+07</td>\n",
       "      <td>7.873400e+08</td>\n",
       "      <td>2.014091e+07</td>\n",
       "      <td>NaN</td>\n",
       "    </tr>\n",
       "    <tr>\n",
       "      <th>75%</th>\n",
       "      <td>1.211995e+09</td>\n",
       "      <td>1.081039e+06</td>\n",
       "      <td>366.000000</td>\n",
       "      <td>2.015112e+07</td>\n",
       "      <td>8800.000000</td>\n",
       "      <td>7.874800e+08</td>\n",
       "      <td>2.016100e+07</td>\n",
       "      <td>7.874800e+08</td>\n",
       "      <td>2.016092e+07</td>\n",
       "      <td>NaN</td>\n",
       "    </tr>\n",
       "    <tr>\n",
       "      <th>max</th>\n",
       "      <td>2.143189e+09</td>\n",
       "      <td>9.904403e+07</td>\n",
       "      <td>799.000000</td>\n",
       "      <td>2.018041e+07</td>\n",
       "      <td>29811.000000</td>\n",
       "      <td>1.000000e+09</td>\n",
       "      <td>2.018032e+07</td>\n",
       "      <td>1.000000e+09</td>\n",
       "      <td>2.018022e+07</td>\n",
       "      <td>NaN</td>\n",
       "    </tr>\n",
       "  </tbody>\n",
       "</table>\n",
       "</div>"
      ],
      "text/plain": [
       "             VUIDNO        VRCNUM         PCTCOD        EDRDAT         BLKNUM  \\\n",
       "count  7.350980e+05  7.350980e+05  735098.000000  7.350980e+05  735098.000000   \n",
       "mean   1.335214e+09  2.025651e+07     285.041097  2.006623e+07    5762.620346   \n",
       "std    3.804694e+08  3.679620e+07     107.710535  1.101735e+05    4975.253229   \n",
       "min    1.000001e+09  2.000000e+00     101.000000  1.940013e+07       1.000000   \n",
       "25%    1.133256e+09  5.703768e+05     208.000000  2.001031e+07    1748.000000   \n",
       "50%    1.154601e+09  8.649625e+05     306.000000  2.011090e+07    4400.000000   \n",
       "75%    1.211995e+09  1.081039e+06     366.000000  2.015112e+07    8800.000000   \n",
       "max    2.143189e+09  9.904403e+07     799.000000  2.018041e+07   29811.000000   \n",
       "\n",
       "             RZIPCD        REFDAT        MZIPCD        MCHGDT  DIST21  \n",
       "count  7.350980e+05  7.350980e+05  7.350980e+05  7.350980e+05     0.0  \n",
       "mean   7.872249e+08  2.009427e+07  7.838112e+08  2.010953e+07     NaN  \n",
       "std    4.382466e+05  3.417427e+05  4.926688e+07  7.726631e+04     NaN  \n",
       "min    7.657400e+08  0.000000e+00  0.000000e+00  1.940010e+07     NaN  \n",
       "25%    7.870400e+08  2.008040e+07  7.870400e+08  2.008071e+07     NaN  \n",
       "50%    7.873400e+08  2.014081e+07  7.873400e+08  2.014091e+07     NaN  \n",
       "75%    7.874800e+08  2.016100e+07  7.874800e+08  2.016092e+07     NaN  \n",
       "max    1.000000e+09  2.018032e+07  1.000000e+09  2.018022e+07     NaN  "
      ]
     },
     "execution_count": 4,
     "metadata": {},
     "output_type": "execute_result"
    }
   ],
   "source": [
    "df.describe()"
   ]
  },
  {
   "cell_type": "code",
   "execution_count": 5,
   "metadata": {},
   "outputs": [
    {
     "data": {
      "text/html": [
       "<div>\n",
       "<style scoped>\n",
       "    .dataframe tbody tr th:only-of-type {\n",
       "        vertical-align: middle;\n",
       "    }\n",
       "\n",
       "    .dataframe tbody tr th {\n",
       "        vertical-align: top;\n",
       "    }\n",
       "\n",
       "    .dataframe thead th {\n",
       "        text-align: right;\n",
       "    }\n",
       "</style>\n",
       "<table border=\"1\" class=\"dataframe\">\n",
       "  <thead>\n",
       "    <tr style=\"text-align: right;\">\n",
       "      <th></th>\n",
       "      <th>VUIDNO</th>\n",
       "      <th>VRCNUM</th>\n",
       "      <th>PCTCOD</th>\n",
       "      <th>EDRDAT</th>\n",
       "      <th>GENDER</th>\n",
       "      <th>LSTNAM</th>\n",
       "      <th>NAMPFX</th>\n",
       "      <th>FSTNAM</th>\n",
       "      <th>MIDNAM</th>\n",
       "      <th>BLKNUM</th>\n",
       "      <th>...</th>\n",
       "      <th>DIST14</th>\n",
       "      <th>DIST15</th>\n",
       "      <th>DIST16</th>\n",
       "      <th>DIST17</th>\n",
       "      <th>DIST18</th>\n",
       "      <th>DIST19</th>\n",
       "      <th>DIST20</th>\n",
       "      <th>DIST21</th>\n",
       "      <th>DIST22</th>\n",
       "      <th>SUPRES</th>\n",
       "    </tr>\n",
       "  </thead>\n",
       "  <tbody>\n",
       "    <tr>\n",
       "      <th>81066</th>\n",
       "      <td>1139078235</td>\n",
       "      <td>297749</td>\n",
       "      <td>332</td>\n",
       "      <td>20050506</td>\n",
       "      <td>M</td>\n",
       "      <td>PORTMAN</td>\n",
       "      <td>NaN</td>\n",
       "      <td>MICHAEL</td>\n",
       "      <td>DAVID</td>\n",
       "      <td>2002</td>\n",
       "      <td>...</td>\n",
       "      <td>NaN</td>\n",
       "      <td>NaN</td>\n",
       "      <td>B05</td>\n",
       "      <td>ALL</td>\n",
       "      <td>ACC</td>\n",
       "      <td>CA5</td>\n",
       "      <td>NaN</td>\n",
       "      <td>NaN</td>\n",
       "      <td>NaN</td>\n",
       "      <td>N</td>\n",
       "    </tr>\n",
       "    <tr>\n",
       "      <th>488448</th>\n",
       "      <td>1212719067</td>\n",
       "      <td>809772</td>\n",
       "      <td>200</td>\n",
       "      <td>20140824</td>\n",
       "      <td>F</td>\n",
       "      <td>ELIASOPH</td>\n",
       "      <td>NaN</td>\n",
       "      <td>VIVIEN</td>\n",
       "      <td>NORMA</td>\n",
       "      <td>4527</td>\n",
       "      <td>...</td>\n",
       "      <td>NaN</td>\n",
       "      <td>NaN</td>\n",
       "      <td>B05</td>\n",
       "      <td>ALL</td>\n",
       "      <td>ACC</td>\n",
       "      <td>CA9</td>\n",
       "      <td>NaN</td>\n",
       "      <td>NaN</td>\n",
       "      <td>NaN</td>\n",
       "      <td>N</td>\n",
       "    </tr>\n",
       "    <tr>\n",
       "      <th>426697</th>\n",
       "      <td>1194384709</td>\n",
       "      <td>720982</td>\n",
       "      <td>369</td>\n",
       "      <td>20121106</td>\n",
       "      <td>F</td>\n",
       "      <td>PLEIN</td>\n",
       "      <td>NaN</td>\n",
       "      <td>VIVIAN</td>\n",
       "      <td>NaN</td>\n",
       "      <td>1828</td>\n",
       "      <td>...</td>\n",
       "      <td>NaN</td>\n",
       "      <td>NaN</td>\n",
       "      <td>B10</td>\n",
       "      <td>ALL</td>\n",
       "      <td>ACC</td>\n",
       "      <td>NaN</td>\n",
       "      <td>NaN</td>\n",
       "      <td>NaN</td>\n",
       "      <td>NaN</td>\n",
       "      <td>N</td>\n",
       "    </tr>\n",
       "    <tr>\n",
       "      <th>594865</th>\n",
       "      <td>1005629520</td>\n",
       "      <td>942907</td>\n",
       "      <td>135</td>\n",
       "      <td>20160522</td>\n",
       "      <td>F</td>\n",
       "      <td>MIKSCH</td>\n",
       "      <td>NaN</td>\n",
       "      <td>MEAGAN</td>\n",
       "      <td>A</td>\n",
       "      <td>1900</td>\n",
       "      <td>...</td>\n",
       "      <td>NaN</td>\n",
       "      <td>NaN</td>\n",
       "      <td>B05</td>\n",
       "      <td>ALL</td>\n",
       "      <td>ACC</td>\n",
       "      <td>CA9</td>\n",
       "      <td>NaN</td>\n",
       "      <td>NaN</td>\n",
       "      <td>NaN</td>\n",
       "      <td>N</td>\n",
       "    </tr>\n",
       "    <tr>\n",
       "      <th>99177</th>\n",
       "      <td>1132509940</td>\n",
       "      <td>352520</td>\n",
       "      <td>164</td>\n",
       "      <td>20060920</td>\n",
       "      <td>F</td>\n",
       "      <td>RODRIGUEZ-GALINDO</td>\n",
       "      <td>NaN</td>\n",
       "      <td>CINDY</td>\n",
       "      <td>NaN</td>\n",
       "      <td>9507</td>\n",
       "      <td>...</td>\n",
       "      <td>NaN</td>\n",
       "      <td>NaN</td>\n",
       "      <td>B10</td>\n",
       "      <td>ALL</td>\n",
       "      <td>ACC</td>\n",
       "      <td>CA4</td>\n",
       "      <td>NaN</td>\n",
       "      <td>NaN</td>\n",
       "      <td>NaN</td>\n",
       "      <td>N</td>\n",
       "    </tr>\n",
       "    <tr>\n",
       "      <th>284640</th>\n",
       "      <td>1140899587</td>\n",
       "      <td>94003678</td>\n",
       "      <td>346</td>\n",
       "      <td>19940218</td>\n",
       "      <td>F</td>\n",
       "      <td>THEONE</td>\n",
       "      <td>NaN</td>\n",
       "      <td>ELENORE</td>\n",
       "      <td>NaN</td>\n",
       "      <td>58</td>\n",
       "      <td>...</td>\n",
       "      <td>NaN</td>\n",
       "      <td>L03</td>\n",
       "      <td>B10</td>\n",
       "      <td>ALL</td>\n",
       "      <td>NaN</td>\n",
       "      <td>NaN</td>\n",
       "      <td>NaN</td>\n",
       "      <td>NaN</td>\n",
       "      <td>NaN</td>\n",
       "      <td>N</td>\n",
       "    </tr>\n",
       "    <tr>\n",
       "      <th>170959</th>\n",
       "      <td>1091138314</td>\n",
       "      <td>542123</td>\n",
       "      <td>460</td>\n",
       "      <td>20090924</td>\n",
       "      <td>M</td>\n",
       "      <td>GRIFFIN</td>\n",
       "      <td>NaN</td>\n",
       "      <td>NICHOLAS</td>\n",
       "      <td>DANE</td>\n",
       "      <td>4716</td>\n",
       "      <td>...</td>\n",
       "      <td>NaN</td>\n",
       "      <td>NaN</td>\n",
       "      <td>B05</td>\n",
       "      <td>ALL</td>\n",
       "      <td>ACC</td>\n",
       "      <td>CA5</td>\n",
       "      <td>NaN</td>\n",
       "      <td>NaN</td>\n",
       "      <td>NaN</td>\n",
       "      <td>N</td>\n",
       "    </tr>\n",
       "    <tr>\n",
       "      <th>593140</th>\n",
       "      <td>2123286502</td>\n",
       "      <td>940655</td>\n",
       "      <td>370</td>\n",
       "      <td>20160410</td>\n",
       "      <td>M</td>\n",
       "      <td>SUTTON</td>\n",
       "      <td>NaN</td>\n",
       "      <td>WESLEY</td>\n",
       "      <td>EVERETTE</td>\n",
       "      <td>14509</td>\n",
       "      <td>...</td>\n",
       "      <td>NaN</td>\n",
       "      <td>NaN</td>\n",
       "      <td>B10</td>\n",
       "      <td>ALL</td>\n",
       "      <td>ACC</td>\n",
       "      <td>NaN</td>\n",
       "      <td>E07</td>\n",
       "      <td>NaN</td>\n",
       "      <td>NaN</td>\n",
       "      <td>N</td>\n",
       "    </tr>\n",
       "    <tr>\n",
       "      <th>393136</th>\n",
       "      <td>1187337179</td>\n",
       "      <td>660336</td>\n",
       "      <td>124</td>\n",
       "      <td>20120817</td>\n",
       "      <td>F</td>\n",
       "      <td>BENAVIDES</td>\n",
       "      <td>NaN</td>\n",
       "      <td>LILIA</td>\n",
       "      <td>DIANA</td>\n",
       "      <td>2302</td>\n",
       "      <td>...</td>\n",
       "      <td>NaN</td>\n",
       "      <td>NaN</td>\n",
       "      <td>B05</td>\n",
       "      <td>ALL</td>\n",
       "      <td>ACC</td>\n",
       "      <td>CA1</td>\n",
       "      <td>NaN</td>\n",
       "      <td>NaN</td>\n",
       "      <td>NaN</td>\n",
       "      <td>N</td>\n",
       "    </tr>\n",
       "    <tr>\n",
       "      <th>690587</th>\n",
       "      <td>2136913240</td>\n",
       "      <td>1055210</td>\n",
       "      <td>228</td>\n",
       "      <td>20170603</td>\n",
       "      <td>M</td>\n",
       "      <td>SIFUENTES</td>\n",
       "      <td>JR</td>\n",
       "      <td>JUAN</td>\n",
       "      <td>ELEUTERIO</td>\n",
       "      <td>10011</td>\n",
       "      <td>...</td>\n",
       "      <td>NaN</td>\n",
       "      <td>NaN</td>\n",
       "      <td>B10</td>\n",
       "      <td>ALL</td>\n",
       "      <td>ACC</td>\n",
       "      <td>CA7</td>\n",
       "      <td>NaN</td>\n",
       "      <td>NaN</td>\n",
       "      <td>NaN</td>\n",
       "      <td>N</td>\n",
       "    </tr>\n",
       "  </tbody>\n",
       "</table>\n",
       "<p>10 rows × 50 columns</p>\n",
       "</div>"
      ],
      "text/plain": [
       "            VUIDNO    VRCNUM  PCTCOD    EDRDAT GENDER             LSTNAM  \\\n",
       "81066   1139078235    297749     332  20050506      M            PORTMAN   \n",
       "488448  1212719067    809772     200  20140824      F           ELIASOPH   \n",
       "426697  1194384709    720982     369  20121106      F              PLEIN   \n",
       "594865  1005629520    942907     135  20160522      F             MIKSCH   \n",
       "99177   1132509940    352520     164  20060920      F  RODRIGUEZ-GALINDO   \n",
       "284640  1140899587  94003678     346  19940218      F             THEONE   \n",
       "170959  1091138314    542123     460  20090924      M            GRIFFIN   \n",
       "593140  2123286502    940655     370  20160410      M             SUTTON   \n",
       "393136  1187337179    660336     124  20120817      F          BENAVIDES   \n",
       "690587  2136913240   1055210     228  20170603      M          SIFUENTES   \n",
       "\n",
       "       NAMPFX    FSTNAM     MIDNAM  BLKNUM  ...   DIST14 DIST15 DIST16 DIST17  \\\n",
       "81066     NaN   MICHAEL      DAVID    2002  ...      NaN    NaN    B05    ALL   \n",
       "488448    NaN    VIVIEN      NORMA    4527  ...      NaN    NaN    B05    ALL   \n",
       "426697    NaN    VIVIAN        NaN    1828  ...      NaN    NaN    B10    ALL   \n",
       "594865    NaN    MEAGAN          A    1900  ...      NaN    NaN    B05    ALL   \n",
       "99177     NaN     CINDY        NaN    9507  ...      NaN    NaN    B10    ALL   \n",
       "284640    NaN   ELENORE        NaN      58  ...      NaN    L03    B10    ALL   \n",
       "170959    NaN  NICHOLAS       DANE    4716  ...      NaN    NaN    B05    ALL   \n",
       "593140    NaN    WESLEY   EVERETTE   14509  ...      NaN    NaN    B10    ALL   \n",
       "393136    NaN     LILIA      DIANA    2302  ...      NaN    NaN    B05    ALL   \n",
       "690587     JR      JUAN  ELEUTERIO   10011  ...      NaN    NaN    B10    ALL   \n",
       "\n",
       "       DIST18 DIST19 DIST20  DIST21  DIST22 SUPRES  \n",
       "81066     ACC    CA5    NaN     NaN     NaN      N  \n",
       "488448    ACC    CA9    NaN     NaN     NaN      N  \n",
       "426697    ACC    NaN    NaN     NaN     NaN      N  \n",
       "594865    ACC    CA9    NaN     NaN     NaN      N  \n",
       "99177     ACC    CA4    NaN     NaN     NaN      N  \n",
       "284640    NaN    NaN    NaN     NaN     NaN      N  \n",
       "170959    ACC    CA5    NaN     NaN     NaN      N  \n",
       "593140    ACC    NaN    E07     NaN     NaN      N  \n",
       "393136    ACC    CA1    NaN     NaN     NaN      N  \n",
       "690587    ACC    CA7    NaN     NaN     NaN      N  \n",
       "\n",
       "[10 rows x 50 columns]"
      ]
     },
     "execution_count": 5,
     "metadata": {},
     "output_type": "execute_result"
    }
   ],
   "source": [
    "# print smaple from the data frame randomly\n",
    "df.sample(10)"
   ]
  },
  {
   "cell_type": "code",
   "execution_count": 6,
   "metadata": {},
   "outputs": [
    {
     "data": {
      "text/plain": [
       "VUIDNO      int64\n",
       "VRCNUM      int64\n",
       "PCTCOD      int64\n",
       "EDRDAT      int64\n",
       "GENDER     object\n",
       "LSTNAM     object\n",
       "NAMPFX     object\n",
       "FSTNAM     object\n",
       "MIDNAM     object\n",
       "BLKNUM      int64\n",
       "STRDIR     object\n",
       "STRNAM     object\n",
       "STRTYP     object\n",
       "UNITYP     object\n",
       "UNITNO     object\n",
       "RSCITY     object\n",
       "RSTATE     object\n",
       "RZIPCD      int64\n",
       "REFDAT      int64\n",
       "MLADD1     object\n",
       "MLADD2     object\n",
       "MLCITY     object\n",
       "MLSTAT     object\n",
       "MZIPCD      int64\n",
       "MLCTRY     object\n",
       "MCHGDT      int64\n",
       "SUSIND     object\n",
       "DIST01     object\n",
       "DIST02     object\n",
       "DIST03     object\n",
       "DIST04     object\n",
       "DIST05     object\n",
       "DIST06     object\n",
       "DIST07     object\n",
       "DIST08     object\n",
       "DIST09     object\n",
       "DIST10     object\n",
       "DIST11     object\n",
       "DIST12     object\n",
       "DIST13     object\n",
       "DIST14     object\n",
       "DIST15     object\n",
       "DIST16     object\n",
       "DIST17     object\n",
       "DIST18     object\n",
       "DIST19     object\n",
       "DIST20     object\n",
       "DIST21    float64\n",
       "DIST22     object\n",
       "SUPRES     object\n",
       "dtype: object"
      ]
     },
     "execution_count": 6,
     "metadata": {},
     "output_type": "execute_result"
    }
   ],
   "source": [
    "# data columns and their data types (usually object means string)\n",
    "df.dtypes"
   ]
  },
  {
   "cell_type": "code",
   "execution_count": 24,
   "metadata": {},
   "outputs": [
    {
     "data": {
      "text/plain": [
       "F      365092\n",
       "M      333358\n",
       "NaN     36648\n",
       "Name: GENDER, dtype: int64"
      ]
     },
     "execution_count": 24,
     "metadata": {},
     "output_type": "execute_result"
    }
   ],
   "source": [
    "# count gender\n",
    "df[\"GENDER\"].value_counts(dropna=False)"
   ]
  },
  {
   "cell_type": "code",
   "execution_count": 25,
   "metadata": {},
   "outputs": [
    {
     "data": {
      "image/png": "[encoded data removed]",
      "text/plain": [
       "<matplotlib.figure.Figure at 0x1024ab048>"
      ]
     },
     "metadata": {},
     "output_type": "display_data"
    }
   ],
   "source": [
    "# plot gender result by pie chart\n",
    "labels = 'Female', 'Male', 'Unknown'\n",
    "sizes = [365092, 333358, 36648]\n",
    "fig1, ax1 = plt.subplots()\n",
    "ax1.pie(sizes, labels=labels, autopct='%1.1f%%',\n",
    "        shadow=True, startangle=90)\n",
    "ax1.axis('equal')  # Equal aspect ratio ensures that pie is drawn as a circle.\n",
    "\n",
    "plt.show()"
   ]
  },
  {
   "cell_type": "code",
   "execution_count": 6,
   "metadata": {},
   "outputs": [
    {
     "ename": "ValueError",
     "evalue": "'MCHGDT' is not in list",
     "output_type": "error",
     "traceback": [
      "\u001b[0;31m---------------------------------------------------------------------------\u001b[0m",
      "\u001b[0;31mValueError\u001b[0m                                Traceback (most recent call last)",
      "\u001b[0;32m<ipython-input-6-31cb3968998b>\u001b[0m in \u001b[0;36m<module>\u001b[0;34m()\u001b[0m\n\u001b[1;32m      3\u001b[0m     \u001b[0;32mreturn\u001b[0m \u001b[0mpd\u001b[0m\u001b[0;34m.\u001b[0m\u001b[0mto_datetime\u001b[0m\u001b[0;34m(\u001b[0m\u001b[0mstr\u001b[0m\u001b[0;34m(\u001b[0m\u001b[0mn\u001b[0m\u001b[0;34m)\u001b[0m\u001b[0;34m,\u001b[0m \u001b[0mformat\u001b[0m\u001b[0;34m=\u001b[0m\u001b[0;34m'%Y%m%d'\u001b[0m\u001b[0;34m)\u001b[0m\u001b[0;34m\u001b[0m\u001b[0m\n\u001b[1;32m      4\u001b[0m \u001b[0;34m\u001b[0m\u001b[0m\n\u001b[0;32m----> 5\u001b[0;31m \u001b[0mdf\u001b[0m \u001b[0;34m=\u001b[0m \u001b[0mpd\u001b[0m\u001b[0;34m.\u001b[0m\u001b[0mread_csv\u001b[0m\u001b[0;34m(\u001b[0m\u001b[0;34m'VoterRegOpenData.csv'\u001b[0m\u001b[0;34m,\u001b[0m \u001b[0msep\u001b[0m\u001b[0;34m=\u001b[0m\u001b[0;34m','\u001b[0m\u001b[0;34m,\u001b[0m \u001b[0mheader\u001b[0m\u001b[0;34m=\u001b[0m\u001b[0;36m0\u001b[0m\u001b[0;34m,\u001b[0m \u001b[0mparse_dates\u001b[0m\u001b[0;34m=\u001b[0m\u001b[0;34m[\u001b[0m\u001b[0;34m'MCHGDT'\u001b[0m\u001b[0;34m]\u001b[0m\u001b[0;34m,\u001b[0m \u001b[0mdate_parser\u001b[0m\u001b[0;34m=\u001b[0m\u001b[0mtimestamp_parser\u001b[0m\u001b[0;34m,\u001b[0m \u001b[0mindex_col\u001b[0m\u001b[0;34m=\u001b[0m\u001b[0;34m'MCHGDT'\u001b[0m\u001b[0;34m)\u001b[0m\u001b[0;34m\u001b[0m\u001b[0m\n\u001b[0m",
      "\u001b[0;32m/usr/local/lib/python3.6/site-packages/pandas/io/parsers.py\u001b[0m in \u001b[0;36mparser_f\u001b[0;34m(filepath_or_buffer, sep, delimiter, header, names, index_col, usecols, squeeze, prefix, mangle_dupe_cols, dtype, engine, converters, true_values, false_values, skipinitialspace, skiprows, nrows, na_values, keep_default_na, na_filter, verbose, skip_blank_lines, parse_dates, infer_datetime_format, keep_date_col, date_parser, dayfirst, iterator, chunksize, compression, thousands, decimal, lineterminator, quotechar, quoting, escapechar, comment, encoding, dialect, tupleize_cols, error_bad_lines, warn_bad_lines, skipfooter, skip_footer, doublequote, delim_whitespace, as_recarray, compact_ints, use_unsigned, low_memory, buffer_lines, memory_map, float_precision)\u001b[0m\n\u001b[1;32m    707\u001b[0m                     skip_blank_lines=skip_blank_lines)\n\u001b[1;32m    708\u001b[0m \u001b[0;34m\u001b[0m\u001b[0m\n\u001b[0;32m--> 709\u001b[0;31m         \u001b[0;32mreturn\u001b[0m \u001b[0m_read\u001b[0m\u001b[0;34m(\u001b[0m\u001b[0mfilepath_or_buffer\u001b[0m\u001b[0;34m,\u001b[0m \u001b[0mkwds\u001b[0m\u001b[0;34m)\u001b[0m\u001b[0;34m\u001b[0m\u001b[0m\n\u001b[0m\u001b[1;32m    710\u001b[0m \u001b[0;34m\u001b[0m\u001b[0m\n\u001b[1;32m    711\u001b[0m     \u001b[0mparser_f\u001b[0m\u001b[0;34m.\u001b[0m\u001b[0m__name__\u001b[0m \u001b[0;34m=\u001b[0m \u001b[0mname\u001b[0m\u001b[0;34m\u001b[0m\u001b[0m\n",
      "\u001b[0;32m/usr/local/lib/python3.6/site-packages/pandas/io/parsers.py\u001b[0m in \u001b[0;36m_read\u001b[0;34m(filepath_or_buffer, kwds)\u001b[0m\n\u001b[1;32m    447\u001b[0m \u001b[0;34m\u001b[0m\u001b[0m\n\u001b[1;32m    448\u001b[0m     \u001b[0;31m# Create the parser.\u001b[0m\u001b[0;34m\u001b[0m\u001b[0;34m\u001b[0m\u001b[0m\n\u001b[0;32m--> 449\u001b[0;31m     \u001b[0mparser\u001b[0m \u001b[0;34m=\u001b[0m \u001b[0mTextFileReader\u001b[0m\u001b[0;34m(\u001b[0m\u001b[0mfilepath_or_buffer\u001b[0m\u001b[0;34m,\u001b[0m \u001b[0;34m**\u001b[0m\u001b[0mkwds\u001b[0m\u001b[0;34m)\u001b[0m\u001b[0;34m\u001b[0m\u001b[0m\n\u001b[0m\u001b[1;32m    450\u001b[0m \u001b[0;34m\u001b[0m\u001b[0m\n\u001b[1;32m    451\u001b[0m     \u001b[0;32mif\u001b[0m \u001b[0mchunksize\u001b[0m \u001b[0;32mor\u001b[0m \u001b[0miterator\u001b[0m\u001b[0;34m:\u001b[0m\u001b[0;34m\u001b[0m\u001b[0m\n",
      "\u001b[0;32m/usr/local/lib/python3.6/site-packages/pandas/io/parsers.py\u001b[0m in \u001b[0;36m__init__\u001b[0;34m(self, f, engine, **kwds)\u001b[0m\n\u001b[1;32m    816\u001b[0m             \u001b[0mself\u001b[0m\u001b[0;34m.\u001b[0m\u001b[0moptions\u001b[0m\u001b[0;34m[\u001b[0m\u001b[0;34m'has_index_names'\u001b[0m\u001b[0;34m]\u001b[0m \u001b[0;34m=\u001b[0m \u001b[0mkwds\u001b[0m\u001b[0;34m[\u001b[0m\u001b[0;34m'has_index_names'\u001b[0m\u001b[0;34m]\u001b[0m\u001b[0;34m\u001b[0m\u001b[0m\n\u001b[1;32m    817\u001b[0m \u001b[0;34m\u001b[0m\u001b[0m\n\u001b[0;32m--> 818\u001b[0;31m         \u001b[0mself\u001b[0m\u001b[0;34m.\u001b[0m\u001b[0m_make_engine\u001b[0m\u001b[0;34m(\u001b[0m\u001b[0mself\u001b[0m\u001b[0;34m.\u001b[0m\u001b[0mengine\u001b[0m\u001b[0;34m)\u001b[0m\u001b[0;34m\u001b[0m\u001b[0m\n\u001b[0m\u001b[1;32m    819\u001b[0m \u001b[0;34m\u001b[0m\u001b[0m\n\u001b[1;32m    820\u001b[0m     \u001b[0;32mdef\u001b[0m \u001b[0mclose\u001b[0m\u001b[0;34m(\u001b[0m\u001b[0mself\u001b[0m\u001b[0;34m)\u001b[0m\u001b[0;34m:\u001b[0m\u001b[0;34m\u001b[0m\u001b[0m\n",
      "\u001b[0;32m/usr/local/lib/python3.6/site-packages/pandas/io/parsers.py\u001b[0m in \u001b[0;36m_make_engine\u001b[0;34m(self, engine)\u001b[0m\n\u001b[1;32m   1047\u001b[0m     \u001b[0;32mdef\u001b[0m \u001b[0m_make_engine\u001b[0m\u001b[0;34m(\u001b[0m\u001b[0mself\u001b[0m\u001b[0;34m,\u001b[0m \u001b[0mengine\u001b[0m\u001b[0;34m=\u001b[0m\u001b[0;34m'c'\u001b[0m\u001b[0;34m)\u001b[0m\u001b[0;34m:\u001b[0m\u001b[0;34m\u001b[0m\u001b[0m\n\u001b[1;32m   1048\u001b[0m         \u001b[0;32mif\u001b[0m \u001b[0mengine\u001b[0m \u001b[0;34m==\u001b[0m \u001b[0;34m'c'\u001b[0m\u001b[0;34m:\u001b[0m\u001b[0;34m\u001b[0m\u001b[0m\n\u001b[0;32m-> 1049\u001b[0;31m             \u001b[0mself\u001b[0m\u001b[0;34m.\u001b[0m\u001b[0m_engine\u001b[0m \u001b[0;34m=\u001b[0m \u001b[0mCParserWrapper\u001b[0m\u001b[0;34m(\u001b[0m\u001b[0mself\u001b[0m\u001b[0;34m.\u001b[0m\u001b[0mf\u001b[0m\u001b[0;34m,\u001b[0m \u001b[0;34m**\u001b[0m\u001b[0mself\u001b[0m\u001b[0;34m.\u001b[0m\u001b[0moptions\u001b[0m\u001b[0;34m)\u001b[0m\u001b[0;34m\u001b[0m\u001b[0m\n\u001b[0m\u001b[1;32m   1050\u001b[0m         \u001b[0;32melse\u001b[0m\u001b[0;34m:\u001b[0m\u001b[0;34m\u001b[0m\u001b[0m\n\u001b[1;32m   1051\u001b[0m             \u001b[0;32mif\u001b[0m \u001b[0mengine\u001b[0m \u001b[0;34m==\u001b[0m \u001b[0;34m'python'\u001b[0m\u001b[0;34m:\u001b[0m\u001b[0;34m\u001b[0m\u001b[0m\n",
      "\u001b[0;32m/usr/local/lib/python3.6/site-packages/pandas/io/parsers.py\u001b[0m in \u001b[0;36m__init__\u001b[0;34m(self, src, **kwds)\u001b[0m\n\u001b[1;32m   1747\u001b[0m                 \u001b[0;32mraise\u001b[0m \u001b[0mValueError\u001b[0m\u001b[0;34m(\u001b[0m\u001b[0;34m\"Usecols do not match names.\"\u001b[0m\u001b[0;34m)\u001b[0m\u001b[0;34m\u001b[0m\u001b[0m\n\u001b[1;32m   1748\u001b[0m \u001b[0;34m\u001b[0m\u001b[0m\n\u001b[0;32m-> 1749\u001b[0;31m         \u001b[0mself\u001b[0m\u001b[0;34m.\u001b[0m\u001b[0m_set_noconvert_columns\u001b[0m\u001b[0;34m(\u001b[0m\u001b[0;34m)\u001b[0m\u001b[0;34m\u001b[0m\u001b[0m\n\u001b[0m\u001b[1;32m   1750\u001b[0m \u001b[0;34m\u001b[0m\u001b[0m\n\u001b[1;32m   1751\u001b[0m         \u001b[0mself\u001b[0m\u001b[0;34m.\u001b[0m\u001b[0morig_names\u001b[0m \u001b[0;34m=\u001b[0m \u001b[0mself\u001b[0m\u001b[0;34m.\u001b[0m\u001b[0mnames\u001b[0m\u001b[0;34m\u001b[0m\u001b[0m\n",
      "\u001b[0;32m/usr/local/lib/python3.6/site-packages/pandas/io/parsers.py\u001b[0m in \u001b[0;36m_set_noconvert_columns\u001b[0;34m(self)\u001b[0m\n\u001b[1;32m   1815\u001b[0m                         \u001b[0m_set\u001b[0m\u001b[0;34m(\u001b[0m\u001b[0mk\u001b[0m\u001b[0;34m)\u001b[0m\u001b[0;34m\u001b[0m\u001b[0m\n\u001b[1;32m   1816\u001b[0m                 \u001b[0;32melse\u001b[0m\u001b[0;34m:\u001b[0m\u001b[0;34m\u001b[0m\u001b[0m\n\u001b[0;32m-> 1817\u001b[0;31m                     \u001b[0m_set\u001b[0m\u001b[0;34m(\u001b[0m\u001b[0mval\u001b[0m\u001b[0;34m)\u001b[0m\u001b[0;34m\u001b[0m\u001b[0m\n\u001b[0m\u001b[1;32m   1818\u001b[0m \u001b[0;34m\u001b[0m\u001b[0m\n\u001b[1;32m   1819\u001b[0m         \u001b[0;32melif\u001b[0m \u001b[0misinstance\u001b[0m\u001b[0;34m(\u001b[0m\u001b[0mself\u001b[0m\u001b[0;34m.\u001b[0m\u001b[0mparse_dates\u001b[0m\u001b[0;34m,\u001b[0m \u001b[0mdict\u001b[0m\u001b[0;34m)\u001b[0m\u001b[0;34m:\u001b[0m\u001b[0;34m\u001b[0m\u001b[0m\n",
      "\u001b[0;32m/usr/local/lib/python3.6/site-packages/pandas/io/parsers.py\u001b[0m in \u001b[0;36m_set\u001b[0;34m(x)\u001b[0m\n\u001b[1;32m   1805\u001b[0m \u001b[0;34m\u001b[0m\u001b[0m\n\u001b[1;32m   1806\u001b[0m             \u001b[0;32mif\u001b[0m \u001b[0;32mnot\u001b[0m \u001b[0mis_integer\u001b[0m\u001b[0;34m(\u001b[0m\u001b[0mx\u001b[0m\u001b[0;34m)\u001b[0m\u001b[0;34m:\u001b[0m\u001b[0;34m\u001b[0m\u001b[0m\n\u001b[0;32m-> 1807\u001b[0;31m                 \u001b[0mx\u001b[0m \u001b[0;34m=\u001b[0m \u001b[0mnames\u001b[0m\u001b[0;34m.\u001b[0m\u001b[0mindex\u001b[0m\u001b[0;34m(\u001b[0m\u001b[0mx\u001b[0m\u001b[0;34m)\u001b[0m\u001b[0;34m\u001b[0m\u001b[0m\n\u001b[0m\u001b[1;32m   1808\u001b[0m \u001b[0;34m\u001b[0m\u001b[0m\n\u001b[1;32m   1809\u001b[0m             \u001b[0mself\u001b[0m\u001b[0;34m.\u001b[0m\u001b[0m_reader\u001b[0m\u001b[0;34m.\u001b[0m\u001b[0mset_noconvert\u001b[0m\u001b[0;34m(\u001b[0m\u001b[0mx\u001b[0m\u001b[0;34m)\u001b[0m\u001b[0;34m\u001b[0m\u001b[0m\n",
      "\u001b[0;31mValueError\u001b[0m: 'MCHGDT' is not in list"
     ]
    }
   ],
   "source": [
    "def timestamp_parser(n):\n",
    "    # Specify the unit you need\n",
    "    return pd.to_datetime(str(n), format='%Y%m%d')\n",
    "\n",
    "df = pd.read_csv('VoterRegOpenData.csv', sep=',', header=0, parse_dates=['MCHGDT'], date_parser=timestamp_parser, index_col='MCHGDT')"
   ]
  },
  {
   "cell_type": "code",
   "execution_count": null,
   "metadata": {
    "collapsed": true
   },
   "outputs": [],
   "source": [
    "df.head()"
   ]
  },
  {
   "cell_type": "code",
   "execution_count": null,
   "metadata": {
    "collapsed": true
   },
   "outputs": [],
   "source": [
    "df.describe()"
   ]
  },
  {
   "cell_type": "code",
   "execution_count": null,
   "metadata": {
    "collapsed": true
   },
   "outputs": [],
   "source": [
    "grouped_country = df.groupby(['Country'])"
   ]
  },
  {
   "cell_type": "code",
   "execution_count": null,
   "metadata": {
    "collapsed": true
   },
   "outputs": [],
   "source": [
    "grouped_country.size()"
   ]
  },
  {
   "cell_type": "code",
   "execution_count": null,
   "metadata": {
    "collapsed": true
   },
   "outputs": [],
   "source": [
    "grouped_country_city = df.groupby(['Country', 'City'])"
   ]
  },
  {
   "cell_type": "code",
   "execution_count": null,
   "metadata": {
    "collapsed": true
   },
   "outputs": [],
   "source": [
    "grouped_country_city.size()"
   ]
  },
  {
   "cell_type": "code",
   "execution_count": null,
   "metadata": {
    "collapsed": true
   },
   "outputs": [],
   "source": [
    "grouped = df.groupby(['first_octet','class_b','class_c'])"
   ]
  },
  {
   "cell_type": "code",
   "execution_count": null,
   "metadata": {
    "collapsed": true
   },
   "outputs": [],
   "source": [
    "grouped.size()"
   ]
  },
  {
   "cell_type": "code",
   "execution_count": null,
   "metadata": {
    "collapsed": true
   },
   "outputs": [],
   "source": [
    "def timestamp_parser(n):\n",
    "    # Specify the unit you need\n",
    "    return pd.to_datetime(float(n), unit='s')\n",
    "\n",
    "dfa = pd.read_csv('krep.csv', sep=',', header=0, parse_dates=['Timestamp'], date_parser=timestamp_parser, index_col='Letter')"
   ]
  },
  {
   "cell_type": "code",
   "execution_count": null,
   "metadata": {
    "collapsed": true,
    "scrolled": true
   },
   "outputs": [],
   "source": [
    "dfa.head()"
   ]
  },
  {
   "cell_type": "code",
   "execution_count": null,
   "metadata": {
    "collapsed": true
   },
   "outputs": [],
   "source": [
    "dfa[['Number', 'Ping']].plot()"
   ]
  },
  {
   "cell_type": "code",
   "execution_count": null,
   "metadata": {
    "collapsed": true
   },
   "outputs": [],
   "source": [
    "dfa.describe"
   ]
  },
  {
   "cell_type": "code",
   "execution_count": null,
   "metadata": {
    "collapsed": true
   },
   "outputs": [],
   "source": [
    "grouped = df.groupby(['Letter','OrgAbuseEmail'])"
   ]
  },
  {
   "cell_type": "code",
   "execution_count": null,
   "metadata": {
    "collapsed": true
   },
   "outputs": [],
   "source": [
    "grouped.size()"
   ]
  },
  {
   "cell_type": "code",
   "execution_count": null,
   "metadata": {
    "collapsed": true
   },
   "outputs": [],
   "source": [
    "grouped.aggregate(np.sum)"
   ]
  },
  {
   "cell_type": "code",
   "execution_count": null,
   "metadata": {
    "collapsed": true
   },
   "outputs": [],
   "source": [
    "grouped = df.groupby('Letter')"
   ]
  },
  {
   "cell_type": "code",
   "execution_count": null,
   "metadata": {
    "collapsed": true
   },
   "outputs": [],
   "source": [
    "grouped.size()"
   ]
  },
  {
   "cell_type": "code",
   "execution_count": null,
   "metadata": {
    "collapsed": true
   },
   "outputs": [],
   "source": []
  },
  {
   "cell_type": "code",
   "execution_count": null,
   "metadata": {
    "collapsed": true
   },
   "outputs": [],
   "source": []
  }
 ],
 "metadata": {
  "kernelspec": {
   "display_name": "Python 3",
   "language": "python",
   "name": "python3"
  },
  "language_info": {
   "codemirror_mode": {
    "name": "ipython",
    "version": 3
   },
   "file_extension": ".py",
   "mimetype": "text/x-python",
   "name": "python",
   "nbconvert_exporter": "python",
   "pygments_lexer": "ipython3",
   "version": "3.6.5"
  }
 },
 "nbformat": 4,
 "nbformat_minor": 2
}
